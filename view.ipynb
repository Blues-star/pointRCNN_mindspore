{
 "cells": [
  {
   "cell_type": "code",
   "execution_count": 1,
   "metadata": {},
   "outputs": [
    {
     "name": "stderr",
     "output_type": "stream",
     "text": [
      "/home/tinmix/miniconda3/envs/msp_torch/lib/python3.9/site-packages/tqdm/auto.py:22: TqdmWarning: IProgress not found. Please update jupyter and ipywidgets. See https://ipywidgets.readthedocs.io/en/stable/user_install.html\n",
      "  from .autonotebook import tqdm as notebook_tqdm\n"
     ]
    }
   ],
   "source": [
    "from lib.datasets.kitti_rcnn_dataset import KittiRCNNDataset\n",
    "import logging\n",
    "\n",
    "logger = logging.getLogger()"
   ]
  },
  {
   "cell_type": "code",
   "execution_count": 2,
   "metadata": {},
   "outputs": [
    {
     "ename": "TypeError",
     "evalue": "create_dataloader() missing 1 required positional argument: 'args'",
     "output_type": "error",
     "traceback": [
      "\u001b[0;31m---------------------------------------------------------------------------\u001b[0m",
      "\u001b[0;31mTypeError\u001b[0m                                 Traceback (most recent call last)",
      "\u001b[1;32m/mnt/h/pointRCNN_task/view.ipynb Cell 2\u001b[0m in \u001b[0;36m<cell line: 2>\u001b[0;34m()\u001b[0m\n\u001b[1;32m      <a href='vscode-notebook-cell://wsl%2Bubuntu/mnt/h/pointRCNN_task/view.ipynb#W1sdnNjb2RlLXJlbW90ZQ%3D%3D?line=0'>1</a>\u001b[0m \u001b[39mfrom\u001b[39;00m \u001b[39mtools\u001b[39;00m\u001b[39m.\u001b[39;00m\u001b[39mdatautil\u001b[39;00m \u001b[39mimport\u001b[39;00m create_dataloader\n\u001b[0;32m----> <a href='vscode-notebook-cell://wsl%2Bubuntu/mnt/h/pointRCNN_task/view.ipynb#W1sdnNjb2RlLXJlbW90ZQ%3D%3D?line=1'>2</a>\u001b[0m d,t \u001b[39m=\u001b[39m create_dataloader(logger)\n",
      "\u001b[0;31mTypeError\u001b[0m: create_dataloader() missing 1 required positional argument: 'args'"
     ]
    }
   ],
   "source": [
    "from tools.datautil import create_dataloader\n",
    "d,t = create_dataloader(logger)\n"
   ]
  },
  {
   "cell_type": "code",
   "execution_count": 5,
   "metadata": {},
   "outputs": [
    {
     "name": "stdout",
     "output_type": "stream",
     "text": [
      "sample_id ()\n",
      "pts_input (16384, 4)\n",
      "pts_rect (16384, 3)\n",
      "pts_features (16384, 1)\n",
      "rpn_cls_label (16384,)\n",
      "rpn_reg_label (16384, 7)\n",
      "gt_boxes3d (5, 7)\n"
     ]
    }
   ],
   "source": [
    "from typing import Dict\n",
    "\n",
    "\n",
    "t:dict = d.create_dict_iterator().__next__()\n",
    "for k,v in t.items():\n",
    "    try:\n",
    "        print(k,v.shape)\n",
    "    except:\n",
    "        print(k,v)"
   ]
  },
  {
   "cell_type": "code",
   "execution_count": 4,
   "metadata": {},
   "outputs": [
    {
     "data": {
      "text/plain": [
       "889"
      ]
     },
     "execution_count": 4,
     "metadata": {},
     "output_type": "execute_result"
    }
   ],
   "source": [
    "from mindspore import dataset\n",
    "import mindspore as ms\n",
    "from pathlib import Path\n",
    "import numpy\n",
    "s = dataset.Schema()\n",
    "s.add_column(\"sample_id\",ms.int32,shape=None)\n",
    "s.add_column(\"pts_input\",ms.float32,shape=[16384, 4])\n",
    "s.add_column(\"pts_rect\",ms.float32,shape=[16384, 3])\n",
    "s.add_column(\"pts_features\",ms.float32,shape=[16384, 1])\n",
    "s.add_column(\"rpn_cls_label\",ms.float32,shape=[16384,])\n",
    "s.add_column(\"rpn_reg_label\",ms.float32,shape=[16384,7])\n",
    "s.add_column(\"gt_boxes3d\",ms.float32,shape=[-1,7])\n",
    "Path(\"KITTI.json\").write_text(s.to_json())"
   ]
  },
  {
   "cell_type": "code",
   "execution_count": 5,
   "metadata": {},
   "outputs": [
    {
     "name": "stdout",
     "output_type": "stream",
     "text": [
      "h:\\pointRCNN_task\\data\n"
     ]
    },
    {
     "name": "stderr",
     "output_type": "stream",
     "text": [
      "[WARNING] ME(146224:81260,MainProcess):2022-08-30-02:41:55.833.370 [mindspore\\dataset\\engine\\datasets_user_defined.py:656] Python multiprocessing is not supported on Windows platform.\n"
     ]
    },
    {
     "ename": "RuntimeError",
     "evalue": "Exception thrown from PyFunc. TypeError: from_numpy(): incompatible function arguments. The following argument types are supported:\n    1. (self: numpy.ndarray) -> mindspore._c_expression.Tensor\n\nInvoked with: 2297\n\nAt:\n  c:\\Users\\46983\\.conda\\envs\\msp18\\lib\\site-packages\\mindspore\\common\\tensor.py(433): from_numpy\n  h:\\pointRCNN_task\\lib\\datasets\\kitti_rcnn_dataset.py(365): get_rpn_sample\n  h:\\pointRCNN_task\\lib\\datasets\\kitti_rcnn_dataset.py(236): __getitem__\n  c:\\Users\\46983\\.conda\\envs\\msp18\\lib\\site-packages\\mindspore\\dataset\\engine\\datasets_user_defined.py(101): _cpp_sampler_fn\n\nLine of code : 208\nFile         : mindspore\\ccsrc\\minddata\\dataset\\engine\\datasetops\\source\\generator_op.cc\n",
     "output_type": "error",
     "traceback": [
      "\u001b[1;31m---------------------------------------------------------------------------\u001b[0m",
      "\u001b[1;31mRuntimeError\u001b[0m                              Traceback (most recent call last)",
      "\u001b[1;32mh:\\pointRCNN_task\\view.ipynb Cell 5\u001b[0m in \u001b[0;36m<cell line: 4>\u001b[1;34m()\u001b[0m\n\u001b[0;32m      <a href='vscode-notebook-cell:/h%3A/pointRCNN_task/view.ipynb#W4sZmlsZQ%3D%3D?line=0'>1</a>\u001b[0m d,t \u001b[39m=\u001b[39m create_dataloader(logger)\n\u001b[0;32m      <a href='vscode-notebook-cell:/h%3A/pointRCNN_task/view.ipynb#W4sZmlsZQ%3D%3D?line=2'>3</a>\u001b[0m a \u001b[39m=\u001b[39m d\u001b[39m.\u001b[39mcreate_dict_iterator()\n\u001b[1;32m----> <a href='vscode-notebook-cell:/h%3A/pointRCNN_task/view.ipynb#W4sZmlsZQ%3D%3D?line=3'>4</a>\u001b[0m \u001b[39mfor\u001b[39;00m item \u001b[39min\u001b[39;00m a:\n\u001b[0;32m      <a href='vscode-notebook-cell:/h%3A/pointRCNN_task/view.ipynb#W4sZmlsZQ%3D%3D?line=4'>5</a>\u001b[0m     \u001b[39mprint\u001b[39m(\u001b[39mtype\u001b[39m(item))\n",
      "File \u001b[1;32mc:\\Users\\46983\\.conda\\envs\\msp18\\lib\\site-packages\\mindspore\\dataset\\engine\\iterators.py:140\u001b[0m, in \u001b[0;36mIterator.__next__\u001b[1;34m(self)\u001b[0m\n\u001b[0;32m    137\u001b[0m     \u001b[39mraise\u001b[39;00m \u001b[39mRuntimeError\u001b[39;00m(\u001b[39m\"\u001b[39m\u001b[39mIterator does not have a running C++ pipeline.\u001b[39m\u001b[39m\"\u001b[39m)\n\u001b[0;32m    139\u001b[0m \u001b[39m# Note offload is applied inside _get_next() if applicable since get_next converts to output format\u001b[39;00m\n\u001b[1;32m--> 140\u001b[0m data \u001b[39m=\u001b[39m \u001b[39mself\u001b[39;49m\u001b[39m.\u001b[39;49m_get_next()\n\u001b[0;32m    141\u001b[0m \u001b[39mif\u001b[39;00m \u001b[39mnot\u001b[39;00m data:\n\u001b[0;32m    142\u001b[0m     \u001b[39mif\u001b[39;00m \u001b[39mself\u001b[39m\u001b[39m.\u001b[39m__index \u001b[39m==\u001b[39m \u001b[39m0\u001b[39m:\n",
      "File \u001b[1;32mc:\\Users\\46983\\.conda\\envs\\msp18\\lib\\site-packages\\mindspore\\dataset\\engine\\iterators.py:228\u001b[0m, in \u001b[0;36mDictIterator._get_next\u001b[1;34m(self)\u001b[0m\n\u001b[0;32m    226\u001b[0m     logger\u001b[39m.\u001b[39mcritical(\u001b[39m\"\u001b[39m\u001b[39mMemory error occurred, process will exit.\u001b[39m\u001b[39m\"\u001b[39m)\n\u001b[0;32m    227\u001b[0m     os\u001b[39m.\u001b[39mkill(os\u001b[39m.\u001b[39mgetpid(), signal\u001b[39m.\u001b[39mSIGKILL)\n\u001b[1;32m--> 228\u001b[0m \u001b[39mraise\u001b[39;00m err\n",
      "File \u001b[1;32mc:\\Users\\46983\\.conda\\envs\\msp18\\lib\\site-packages\\mindspore\\dataset\\engine\\iterators.py:211\u001b[0m, in \u001b[0;36mDictIterator._get_next\u001b[1;34m(self)\u001b[0m\n\u001b[0;32m    209\u001b[0m \u001b[39mtry\u001b[39;00m:\n\u001b[0;32m    210\u001b[0m     \u001b[39mif\u001b[39;00m \u001b[39mself\u001b[39m\u001b[39m.\u001b[39moffload_model \u001b[39mis\u001b[39;00m \u001b[39mNone\u001b[39;00m:\n\u001b[1;32m--> 211\u001b[0m         \u001b[39mreturn\u001b[39;00m {k: \u001b[39mself\u001b[39m\u001b[39m.\u001b[39m_transform_md_to_output(t) \u001b[39mfor\u001b[39;00m k, t \u001b[39min\u001b[39;00m \u001b[39mself\u001b[39;49m\u001b[39m.\u001b[39;49m_iterator\u001b[39m.\u001b[39;49mGetNextAsMap()\u001b[39m.\u001b[39mitems()}\n\u001b[0;32m    212\u001b[0m     data \u001b[39m=\u001b[39m [\u001b[39mself\u001b[39m\u001b[39m.\u001b[39m_transform_md_to_tensor(t) \u001b[39mfor\u001b[39;00m t \u001b[39min\u001b[39;00m \u001b[39mself\u001b[39m\u001b[39m.\u001b[39m_iterator\u001b[39m.\u001b[39mGetNextAsList()]\n\u001b[0;32m    213\u001b[0m     \u001b[39mif\u001b[39;00m data:\n",
      "\u001b[1;31mRuntimeError\u001b[0m: Exception thrown from PyFunc. TypeError: from_numpy(): incompatible function arguments. The following argument types are supported:\n    1. (self: numpy.ndarray) -> mindspore._c_expression.Tensor\n\nInvoked with: 2297\n\nAt:\n  c:\\Users\\46983\\.conda\\envs\\msp18\\lib\\site-packages\\mindspore\\common\\tensor.py(433): from_numpy\n  h:\\pointRCNN_task\\lib\\datasets\\kitti_rcnn_dataset.py(365): get_rpn_sample\n  h:\\pointRCNN_task\\lib\\datasets\\kitti_rcnn_dataset.py(236): __getitem__\n  c:\\Users\\46983\\.conda\\envs\\msp18\\lib\\site-packages\\mindspore\\dataset\\engine\\datasets_user_defined.py(101): _cpp_sampler_fn\n\nLine of code : 208\nFile         : mindspore\\ccsrc\\minddata\\dataset\\engine\\datasetops\\source\\generator_op.cc\n"
     ]
    }
   ],
   "source": [
    "d,t = create_dataloader(logger)\n",
    "\n",
    "a = d.create_dict_iterator()\n",
    "for item in a:\n",
    "    print(type(item))"
   ]
  },
  {
   "cell_type": "code",
   "execution_count": null,
   "metadata": {},
   "outputs": [],
   "source": []
  }
 ],
 "metadata": {
  "kernelspec": {
   "display_name": "Python 3.9.13 ('msp_torch')",
   "language": "python",
   "name": "python3"
  },
  "language_info": {
   "codemirror_mode": {
    "name": "ipython",
    "version": 3
   },
   "file_extension": ".py",
   "mimetype": "text/x-python",
   "name": "python",
   "nbconvert_exporter": "python",
   "pygments_lexer": "ipython3",
   "version": "3.9.13"
  },
  "orig_nbformat": 4,
  "vscode": {
   "interpreter": {
    "hash": "abaa33b5b0ee8ab377ad83bdd8f754794be844b430af6963f96c919d4d8af4db"
   }
  }
 },
 "nbformat": 4,
 "nbformat_minor": 2
}
